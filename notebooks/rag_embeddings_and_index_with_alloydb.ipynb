{
 "cells": [
  {
   "cell_type": "code",
   "execution_count": null,
   "metadata": {
    "id": "iyi0u1inBcr1"
   },
   "outputs": [],
   "source": [
    "# Copyright 2024 Google LLC\n",
    "#\n",
    "# Licensed under the Apache License, Version 2.0 (the \"License\");\n",
    "# you may not use this file except in compliance with the License.\n",
    "# You may obtain a copy of the License at\n",
    "#\n",
    "#     https://www.apache.org/licenses/LICENSE-2.0\n",
    "#\n",
    "# Unless required by applicable law or agreed to in writing, software\n",
    "# distributed under the License is distributed on an \"AS IS\" BASIS,\n",
    "# WITHOUT WARRANTIES OR CONDITIONS OF ANY KIND, either express or implied.\n",
    "# See the License for the specific language governing permissions and\n",
    "# limitations under the License."
   ]
  },
  {
   "cell_type": "markdown",
   "metadata": {
    "id": "BLIlkXRfCNyQ"
   },
   "source": [
    "# Retrieval Augmented Generation(RAG) with AlloyDB"
   ]
  },
  {
   "cell_type": "markdown",
   "metadata": {
    "id": "WBpYfJP8Ce4s"
   },
   "source": [
    "|                                            |                                                   |\n",
    "|--------------------------------------------|---------------------------------------------------|\n",
    "|Original Author(s)                          |                                                   |\n",
    "|[Tanya Warrier](https://github.com/tanyarw) |[Rupjit Chakraborty](https://github.com/lazyprgmr) |\n",
    "|Modified for Hands-on(s)                    |                                                   |\n",
    "|[Wildan Putra](https://www.linkedin.com/in/wildanputra/) |                                      |"
   ]
  },
  {
   "cell_type": "markdown",
   "metadata": {
    "id": "WZPabwVQCh1y"
   },
   "source": [
    "## Overview\n",
    "\n",
    "- **PostgreSQL:** [PostgreSQL](https://www.postgresql.org/docs/current/) is an open-source, highly-extensible object-relational database management system known for its reliability and feature richness.\n",
    "\n",
    "- **AlloyDB:** [AlloyDB](https://cloud.google.com/alloydb/docs/overview) is Google Cloud's fully-managed, PostgreSQL-compatible database service optimized for demanding enterprise workloads and transactional/analytical hybrid processing.\n",
    "\n",
    "- **Gemini:** [Gemini](https://ai.google.dev/models/gemini) is a family of generative AI models that lets developers generate content and solve problems. These models are designed and trained to handle both text and images as input.\n",
    "  - **Gemini 1.0 Pro model (`gemini-1.0-pro`):** Designed to handle natural language tasks, multi-turn text and code chat, and code generation.\n",
    "\n",
    "- **Vertex AI Embeddings for Text:** With [textembedding-gecko](https://cloud.google.com/vertex-ai/generative-ai/docs/model-reference/text-embeddings) models we can easily create a text embedding with LLM. `textembedding-gecko@003` is the newest stable embedding model.\n",
    "\n",
    "This notebook demonstrates Retrieval Augmented Generation (RAG) with AlloyDB backend. After installing the pre-requisites, we create an AlloyDB instance and use it to store embeddings. Finally we demonstrate how to fetch similar documents from AlloyDB and answer questions based on the documents fetched using `gemini-1.0-pro`.\n",
    "  \n",
    "Text embeddings are created for publicly available abstracts from patents data and use them in our LLM search. Google Patents Research Data contains the output of much of the data analysis work used in Google Patents (patents.google.com).\n",
    "  \n",
    "**Dataset**: `patents-public-data.google_patents_research.publications`\n"
   ]
  },
  {
   "cell_type": "markdown",
   "metadata": {
    "id": "fdU7KNcCCkOA",
    "tags": []
   },
   "source": [
    "## Getting Started"
   ]
  },
  {
   "cell_type": "markdown",
   "metadata": {
    "id": "6XczCHZYCmi1"
   },
   "source": [
    "### Install required packages\n"
   ]
  },
  {
   "cell_type": "code",
   "execution_count": 1,
   "metadata": {
    "id": "4yzI1lAq9lPf",
    "tags": []
   },
   "outputs": [
    {
     "name": "stdout",
     "output_type": "stream",
     "text": [
      "\u001b[33mWARNING: Ignoring invalid distribution -oogle-api-core (/opt/conda/lib/python3.10/site-packages)\u001b[0m\n",
      "\u001b[33mWARNING: Ignoring invalid distribution -oogle-api-core (/opt/conda/lib/python3.10/site-packages)\u001b[0m\n",
      "\u001b[33mWARNING: Ignoring invalid distribution -oogle-api-core (/opt/conda/lib/python3.10/site-packages)\u001b[0m\n",
      "\u001b[33mWARNING: Ignoring invalid distribution -oogle-api-core (/opt/conda/lib/python3.10/site-packages)\u001b[0m\n",
      "\u001b[33mWARNING: Ignoring invalid distribution -oogle-api-core (/opt/conda/lib/python3.10/site-packages)\u001b[0m\n",
      "\u001b[33mWARNING: Ignoring invalid distribution -oogle-api-core (/opt/conda/lib/python3.10/site-packages)\u001b[0m\n"
     ]
    }
   ],
   "source": [
    "!pip install pg8000==1.31.1 \\\n",
    "SQLAlchemy==2.0.29 \\\n",
    "google-cloud-aiplatform==1.46.0 \\\n",
    "google-cloud-alloydb-connector==1.0.0 --upgrade --quiet"
   ]
  },
  {
   "cell_type": "markdown",
   "metadata": {
    "id": "VA-peJUWCujf"
   },
   "source": [
    "<div class=\"alert alert-block alert-warning\">\n",
    "<b>⚠️ The kernel is going to restart. Please wait until it is finished before continuing to the next step. ⚠️</b>\n",
    "</div>"
   ]
  },
  {
   "cell_type": "markdown",
   "metadata": {
    "id": "ooauhzOWPvC1"
   },
   "source": [
    "### Import Libraries\n",
    "\n",
    "Imports and prepares libraries for interacting with AlloyDB, Vertex AI resources for models, and data manipulation.\n",
    "\n",
    "* `pg8000:` PostgreSQL database driver.\n",
    "* `vertexai:` Google Cloud Vertex AI for managing generative models.\n",
    "* `sqlalchemy:`  ORM for interfacing with databases in Python.\n",
    "* `subprocess:`  Spawns external processes.\n",
    "* `pandas:`  Powerful library for data analysis and manipulation.\n",
    "* `google.cloud.alloydb.connector:`  Connector for Google Cloud AlloyDB (managed PostgreSQL)."
   ]
  },
  {
   "cell_type": "code",
   "execution_count": 29,
   "metadata": {
    "id": "Hj6K6SFIEnRk",
    "tags": []
   },
   "outputs": [],
   "source": [
    "import subprocess\n",
    "from typing import Tuple\n",
    "\n",
    "import pandas as pd\n",
    "import pg8000\n",
    "import sqlalchemy\n",
    "import vertexai\n",
    "from google.cloud.alloydb.connector import Connector\n",
    "from sqlalchemy.engine import Engine\n",
    "from sqlalchemy.exc import DatabaseError\n",
    "from vertexai.generative_models import GenerationConfig, GenerativeModel"
   ]
  },
  {
   "cell_type": "markdown",
   "metadata": {
    "id": "nPtpzZd7zU_e"
   },
   "source": [
    "### Set Google Cloud project information and initialize Vertex AI SDK\n",
    "\n",
    "- To get started using Vertex AI, you must have an existing Google Cloud project and [enable the Vertex AI API](https://console.cloud.google.com/flows/enableapi?apiid=aiplatform.googleapis.com).\n",
    "\n",
    "- Learn more about [setting up a project and a development environment](https://cloud.google.com/vertex-ai/docs/start/cloud-environment)."
   ]
  },
  {
   "cell_type": "code",
   "execution_count": 3,
   "metadata": {
    "id": "5OwGCuGVvxFQ",
    "tags": []
   },
   "outputs": [],
   "source": [
    "# PROJECT_ID = \"<your-project-id>\"  # @param {type:\"string\"}\n",
    "LOCATION = \"asia-southeast1\"  # @param {type:\"string\"}\n",
    "\n",
    "vertexai.init(project=PROJECT_ID, location=LOCATION)"
   ]
  },
  {
   "cell_type": "markdown",
   "metadata": {
    "id": "0C2kQjTmzYL9"
   },
   "source": [
    "Configurations to create a new AlloyDB cluster and primary instance\n",
    "\n",
    "* To get started using AlloyDB, you must have an existing Google Cloud project and [enable the AlloyDB AI API](https://console.cloud.google.com/flows/enableapi?apiid=alloydb.googleapis.com).\n",
    "* To generate embeddings with AlloyDB, the cluster created must reside in the region `asia-southeast1`.\n",
    "* Please follow the naming convention listed below for `CLUSTER` and `INSTANCE` name\n",
    "  - Must begin with a lowercase letter.\n",
    "  - Can optionally contain a combination of lowercase letters, numbers, and hyphens (up to 61 characters).\n",
    "  - Must end with a lowercase letter or digit."
   ]
  },
  {
   "cell_type": "code",
   "execution_count": 4,
   "metadata": {
    "id": "mv3ho2AwDkID",
    "tags": []
   },
   "outputs": [
    {
     "name": "stdout",
     "output_type": "stream",
     "text": [
      "Project Number: 330195729553\n",
      "AlloyDB Service Agent: serviceAccount:service-330195729553@gcp-sa-alloydb.iam.gserviceaccount.com\n"
     ]
    }
   ],
   "source": [
    "REGION = \"asia-southeast1\"  # @param {type:\"string\"}\n",
    "# CLUSTER = \"<cluster-name>\"  # @param {type:\"string\"}\n",
    "# INSTANCE = \"<primary-instance-name>\"  # @param {type:\"string\"}\n",
    "\n",
    "\n",
    "CPU_COUNT = 2  # @param {type:\"integer\"}\n",
    "\n",
    "PROJECT_NUM = (\n",
    "    subprocess.check_output(\n",
    "        [\n",
    "            \"gcloud\",\n",
    "            \"projects\",\n",
    "            \"describe\",\n",
    "            PROJECT_ID,\n",
    "            \"--format\",\n",
    "            \"value(projectNumber)\",\n",
    "        ]\n",
    "    )\n",
    "    .decode(\"utf-8\")\n",
    "    .strip()\n",
    ")\n",
    "print(f\"Project Number: {PROJECT_NUM}\")\n",
    "\n",
    "SERVICE_ACCOUNT = (\n",
    "    f\"serviceAccount:service-{PROJECT_NUM}@gcp-sa-alloydb.iam.gserviceaccount.com\"\n",
    ")\n",
    "print(f\"AlloyDB Service Agent: {SERVICE_ACCOUNT}\")"
   ]
  },
  {
   "cell_type": "markdown",
   "metadata": {
    "id": "hV7-Maoczm9W"
   },
   "source": [
    "Configurations for embedding and generative model\n",
    "\n",
    "\n",
    "*   `textembedding-gecko` outputs 768-dimensional vector embeddings.\n"
   ]
  },
  {
   "cell_type": "code",
   "execution_count": 5,
   "metadata": {
    "id": "nLjwxgWvxJ0q",
    "tags": []
   },
   "outputs": [],
   "source": [
    "EMBEDDING_MODEL = \"textembedding-gecko@003\"  # @param {type:\"string\"}\n",
    "DIMENSIONS = 768  # @param {type:\"integer\"}\n",
    "GENERATIVE_MODEL = \"gemini-1.0-pro\"  # @param {type:\"string\"}"
   ]
  },
  {
   "cell_type": "markdown",
   "metadata": {
    "id": "8rxwu-TaSdmn"
   },
   "source": [
    "## Fetch Dataset from BigQuery\n",
    "\n",
    "- [Google Patents Research Data](https://console.cloud.google.com/marketplace/product/google_patents_public_datasets/google-patents-research-data) contains the output of much of the data analysis work used in [Google Patents](https://patents.google.com), including machine translations of titles and abstracts from Google Translate, embedding vectors, extracted top terms, similar documents, and forward references.\n",
    "- We will use the public dataset table `google_patents_research.publications` for this demo by selecting the text columns below:\n",
    "    - `publication_number:` Patent publication number (DOCDB compatible), eg: 'US-7650331-B1'.\n",
    "    - `title:` The English title.\n",
    "    - `abstract:` The English abstract.\n",
    "    - `url:` URL to the patents.google.com page for this patent.\n",
    "    - `country:` Country name.\n",
    "    - `publication_description:` Description of the publication type.\n",
    "- The text columns `title` and `abstract` will later be converted into text embeddings to perform similarity search. The other columns would be used as supplemental information to the user's question."
   ]
  },
  {
   "cell_type": "code",
   "execution_count": 6,
   "metadata": {
    "tags": []
   },
   "outputs": [
    {
     "name": "stdout",
     "output_type": "stream",
     "text": [
      "\u001b[33mWARNING: Ignoring invalid distribution -oogle-api-core (/opt/conda/lib/python3.10/site-packages)\u001b[0m\n",
      "\u001b[33mWARNING: Ignoring invalid distribution -oogle-api-core (/opt/conda/lib/python3.10/site-packages)\u001b[0m\n",
      "\u001b[33mWARNING: Ignoring invalid distribution -oogle-api-core (/opt/conda/lib/python3.10/site-packages)\u001b[0m\n",
      "\u001b[33mWARNING: Ignoring invalid distribution -oogle-api-core (/opt/conda/lib/python3.10/site-packages)\u001b[0m\n",
      "\u001b[33mWARNING: Ignoring invalid distribution -oogle-api-core (/opt/conda/lib/python3.10/site-packages)\u001b[0m\n",
      "\u001b[33mWARNING: Ignoring invalid distribution -oogle-api-core (/opt/conda/lib/python3.10/site-packages)\u001b[0m\n"
     ]
    }
   ],
   "source": [
    "!pip install pandas-gbq --quiet"
   ]
  },
  {
   "cell_type": "code",
   "execution_count": 7,
   "metadata": {
    "id": "rhfMamgG6kZf",
    "tags": []
   },
   "outputs": [
    {
     "name": "stderr",
     "output_type": "stream",
     "text": [
      "/var/tmp/ipykernel_3040/1237091254.py:12: FutureWarning: read_gbq is deprecated and will be removed in a future version. Please use pandas_gbq.read_gbq instead: https://pandas-gbq.readthedocs.io/en/latest/api.html#pandas_gbq.read_gbq\n",
      "  df = pd.read_gbq(query, project_id=PROJECT_ID)\n"
     ]
    },
    {
     "data": {
      "text/html": [
       "<div>\n",
       "<style scoped>\n",
       "    .dataframe tbody tr th:only-of-type {\n",
       "        vertical-align: middle;\n",
       "    }\n",
       "\n",
       "    .dataframe tbody tr th {\n",
       "        vertical-align: top;\n",
       "    }\n",
       "\n",
       "    .dataframe thead th {\n",
       "        text-align: right;\n",
       "    }\n",
       "</style>\n",
       "<table border=\"1\" class=\"dataframe\">\n",
       "  <thead>\n",
       "    <tr style=\"text-align: right;\">\n",
       "      <th></th>\n",
       "      <th>publication_number</th>\n",
       "      <th>title</th>\n",
       "      <th>abstract</th>\n",
       "      <th>url</th>\n",
       "      <th>country</th>\n",
       "      <th>publication_description</th>\n",
       "    </tr>\n",
       "  </thead>\n",
       "  <tbody>\n",
       "    <tr>\n",
       "      <th>0</th>\n",
       "      <td>AP-0102072-A0</td>\n",
       "      <td>Process for the preparation of a non-crystalli...</td>\n",
       "      <td>Paroxetine hydrochloride propan-2-ol solvate i...</td>\n",
       "      <td>https://patents.google.com/patent/AP0102072A0</td>\n",
       "      <td>ARIPO</td>\n",
       "      <td>Application filed, as announced in the Gazette...</td>\n",
       "    </tr>\n",
       "    <tr>\n",
       "      <th>1</th>\n",
       "      <td>AP-0102197-A0</td>\n",
       "      <td>Electrolytic apparatus, methods for purificati...</td>\n",
       "      <td>Electropurification of contaminated aqueous me...</td>\n",
       "      <td>https://patents.google.com/patent/AP0102197A0</td>\n",
       "      <td>ARIPO</td>\n",
       "      <td>Application filed, as announced in the Gazette...</td>\n",
       "    </tr>\n",
       "    <tr>\n",
       "      <th>2</th>\n",
       "      <td>AP-0102255-A0</td>\n",
       "      <td>Aphron-containing aqueous well drilling and se...</td>\n",
       "      <td>The invention provides a method and fluid for ...</td>\n",
       "      <td>https://patents.google.com/patent/AP0102255A0</td>\n",
       "      <td>ARIPO</td>\n",
       "      <td>Application filed, as announced in the Gazette...</td>\n",
       "    </tr>\n",
       "    <tr>\n",
       "      <th>3</th>\n",
       "      <td>AP-0102286-A0</td>\n",
       "      <td>Compound and its use.</td>\n",
       "      <td>A method of testing the purity or stability to...</td>\n",
       "      <td>https://patents.google.com/patent/AP0102286A0</td>\n",
       "      <td>ARIPO</td>\n",
       "      <td>Application filed, as announced in the Gazette...</td>\n",
       "    </tr>\n",
       "    <tr>\n",
       "      <th>4</th>\n",
       "      <td>AP-0102296-A0</td>\n",
       "      <td>Hygromycin A derivatives.</td>\n",
       "      <td>This invention relates to compounds of the for...</td>\n",
       "      <td>https://patents.google.com/patent/AP0102296A0</td>\n",
       "      <td>ARIPO</td>\n",
       "      <td>Application filed, as announced in the Gazette...</td>\n",
       "    </tr>\n",
       "  </tbody>\n",
       "</table>\n",
       "</div>"
      ],
      "text/plain": [
       "  publication_number                                              title  \\\n",
       "0      AP-0102072-A0  Process for the preparation of a non-crystalli...   \n",
       "1      AP-0102197-A0  Electrolytic apparatus, methods for purificati...   \n",
       "2      AP-0102255-A0  Aphron-containing aqueous well drilling and se...   \n",
       "3      AP-0102286-A0                              Compound and its use.   \n",
       "4      AP-0102296-A0                          Hygromycin A derivatives.   \n",
       "\n",
       "                                            abstract  \\\n",
       "0  Paroxetine hydrochloride propan-2-ol solvate i...   \n",
       "1  Electropurification of contaminated aqueous me...   \n",
       "2  The invention provides a method and fluid for ...   \n",
       "3  A method of testing the purity or stability to...   \n",
       "4  This invention relates to compounds of the for...   \n",
       "\n",
       "                                             url country  \\\n",
       "0  https://patents.google.com/patent/AP0102072A0   ARIPO   \n",
       "1  https://patents.google.com/patent/AP0102197A0   ARIPO   \n",
       "2  https://patents.google.com/patent/AP0102255A0   ARIPO   \n",
       "3  https://patents.google.com/patent/AP0102286A0   ARIPO   \n",
       "4  https://patents.google.com/patent/AP0102296A0   ARIPO   \n",
       "\n",
       "                             publication_description  \n",
       "0  Application filed, as announced in the Gazette...  \n",
       "1  Application filed, as announced in the Gazette...  \n",
       "2  Application filed, as announced in the Gazette...  \n",
       "3  Application filed, as announced in the Gazette...  \n",
       "4  Application filed, as announced in the Gazette...  "
      ]
     },
     "execution_count": 7,
     "metadata": {},
     "output_type": "execute_result"
    }
   ],
   "source": [
    "query = \"\"\"\n",
    "SELECT publication_number,\ttitle,\tabstract, url,\tcountry,\tpublication_description\n",
    "FROM `patents-public-data.google_patents_research.publications`\n",
    "WHERE\n",
    "  length(title)>1\n",
    "    AND\n",
    "  length(abstract)>1\n",
    "ORDER BY \tpublication_number\n",
    "LIMIT 1000\n",
    "\"\"\"\n",
    "# Read the table and display first 5 rows\n",
    "df = pd.read_gbq(query, project_id=PROJECT_ID)\n",
    "df.head(5)"
   ]
  },
  {
   "cell_type": "markdown",
   "metadata": {
    "id": "zTCmZN_H7fHx"
   },
   "source": [
    "## AlloyDB as RAG backend"
   ]
  },
  {
   "cell_type": "code",
   "execution_count": 8,
   "metadata": {
    "id": "Y7CfxBOZLQ2A",
    "tags": []
   },
   "outputs": [],
   "source": [
    "password = \"@wUswO9r?_haT_?Hospl\" # input(\"Enter a password for the cluster: \")"
   ]
  },
  {
   "cell_type": "markdown",
   "metadata": {
    "id": "zV1B1C5NCOvF"
   },
   "source": [
    "Provision the `aiplatform.user` role to the AlloyDB service agent"
   ]
  },
  {
   "cell_type": "markdown",
   "metadata": {
    "id": "uaaO4y-1gDYd"
   },
   "source": [
    "<div class=\"alert alert-block alert-warning\">\n",
    "<b>⚠️ Please wait for a few minutes to ensure that the AlloyDB instance is updated with a Public IP address before moving forward. ⚠️</b>\n",
    "</div>"
   ]
  },
  {
   "cell_type": "markdown",
   "metadata": {
    "id": "L8iee-ydck4K"
   },
   "source": [
    "### Helper Functions\n",
    "\n",
    "\n",
    "*   `create_sqlalchemy_engine`: Creates connection pool for AlloyDB instance\n",
    "*   `check_table_exists`: Checks if table exists in an instance\n"
   ]
  },
  {
   "cell_type": "code",
   "execution_count": 56,
   "metadata": {
    "id": "0scMfoar7d4B",
    "tags": []
   },
   "outputs": [],
   "source": [
    "def create_sqlalchemy_engine(\n",
    "    inst_uri: str, user: str, password: str, db: str\n",
    ") -> Tuple[sqlalchemy.engine.Engine, Connector]:\n",
    "    \"\"\"Creates a connection pool for an AlloyDB instance and returns the pool\n",
    "    and the connector. Callers are responsible for closing the pool and the\n",
    "    connector.\n",
    "\n",
    "\n",
    "    Args:\n",
    "        inst_uri (str):\n",
    "            The instance URI specifies the instance relative to the project,\n",
    "            region, and cluster. For example:\n",
    "            \"projects/my-project/locations/us-central1/clusters/my-cluster/instances/my-instance\"\n",
    "        user (str):\n",
    "            The database user name, e.g., postgres\n",
    "        password (str):\n",
    "            The database user's password, e.g., secret-password\n",
    "        db (str):\n",
    "            The name of the database, e.g., mydb\n",
    "\n",
    "     Returns:\n",
    "        Tuple[sqlalchemy.engine.Engine, Connector]:\n",
    "            * A SQLAlchemy engine object for managing database interactions.\n",
    "            * A Connector object for underlying database connections (can be used for closing).\n",
    "    \"\"\"\n",
    "    connector = Connector()\n",
    "\n",
    "    def getconn() -> pg8000.dbapi.Connection:\n",
    "        \"\"\"\n",
    "        Establishes a connection to a Google Cloud AlloyDB instance (PostgreSQL database) using the pg8000 driver.\n",
    "\n",
    "        Returns:\n",
    "            pg8000.dbapi.Connection: An active database connection object.\n",
    "        \"\"\"\n",
    "        conn: pg8000.dbapi.Connection = connector.connect(\n",
    "            instance_uri=inst_uri,\n",
    "            driver=\"pg8000\",\n",
    "            user=user,\n",
    "            password=password,\n",
    "            db=db,\n",
    "            # use ip_type to specify PSC\n",
    "            ip_type=\"PRIVATE\",\n",
    "        )\n",
    "        return conn\n",
    "\n",
    "    # create SQLAlchemy connection pool\n",
    "    engine = sqlalchemy.create_engine(\n",
    "        \"postgresql+pg8000://\", creator=getconn #, isolation_level=\"AUTOCOMMIT\"\n",
    "    )\n",
    "\n",
    "    # engine.dialect.description_encoding = None\n",
    "    return engine, connector"
   ]
  },
  {
   "cell_type": "code",
   "execution_count": 57,
   "metadata": {
    "id": "bEv-Yj5MTBoM",
    "tags": []
   },
   "outputs": [],
   "source": [
    "def check_table_exists(engine: Engine, connector: Connector, table_name: str) -> bool:\n",
    "    \"\"\"Checks if a table exists in the database.\n",
    "\n",
    "    Args:\n",
    "        engine (sqlalchemy.engine.Engine): SQLAlchemy engine object.\n",
    "        connector (Connector): AlloyDB Connector object.\n",
    "        table_name (str): Name of the table to check.\n",
    "\n",
    "    Returns:\n",
    "        bool: True if the table exists, False otherwise.\n",
    "    \"\"\"\n",
    "\n",
    "    try:\n",
    "        with engine.connect() as conn:\n",
    "            check_cmd = sqlalchemy.text(f\"SELECT 1 FROM {table_name} LIMIT 1\")\n",
    "            conn.execute(check_cmd)\n",
    "        connector.close()\n",
    "        return True\n",
    "\n",
    "    except DatabaseError:\n",
    "        return False"
   ]
  },
  {
   "cell_type": "markdown",
   "metadata": {
    "id": "1hAafWeecyeG"
   },
   "source": [
    "### Create the connection to AlloyDB"
   ]
  },
  {
   "cell_type": "code",
   "execution_count": 58,
   "metadata": {
    "id": "F3DnzTH3LRz5",
    "tags": []
   },
   "outputs": [],
   "source": [
    "INSTANCE_URI = (\n",
    "    f\"projects/{PROJECT_ID}/locations/{REGION}/clusters/{CLUSTER}/instances/{INSTANCE}\"\n",
    ")\n",
    "USER = \"postgres\"\n",
    "DB = \"postgres\"\n",
    "TABLE_NAME = \"google_patents_research\""
   ]
  },
  {
   "cell_type": "markdown",
   "metadata": {
    "id": "TcfvIbVbkamU"
   },
   "source": [
    "### Create a table on AlloyDB\n",
    "The table is created with the columns from the `google_patents_research.publications` dataset.\n",
    "\n",
    "> **Note:** If you come across the error below, it is because the AlloyDB instance has not finished updating its public IP address. Please wait for a few minutes before trying to assign it again under the **Set Up** section.\n",
    "```\n",
    "IPTypeNotFoundError: AlloyDB instance does not have an IP addresses matching type: 'PUBLIC'\n",
    "```"
   ]
  },
  {
   "cell_type": "code",
   "execution_count": 61,
   "metadata": {
    "id": "VUaDKZnWDDo2",
    "tags": []
   },
   "outputs": [],
   "source": [
    "engine, connector = create_sqlalchemy_engine(\n",
    "    inst_uri=INSTANCE_URI,\n",
    "    user=USER,\n",
    "    password=password,\n",
    "    \n",
    "    db=DB,\n",
    ")"
   ]
  },
  {
   "cell_type": "code",
   "execution_count": 62,
   "metadata": {
    "id": "Xq8qgcewevsY",
    "tags": []
   },
   "outputs": [
    {
     "name": "stdout",
     "output_type": "stream",
     "text": [
      "Creating table...\n",
      "Inserting values...\n",
      "Committing...\n",
      "Done\n"
     ]
    }
   ],
   "source": [
    "if check_table_exists(engine, connector, TABLE_NAME):\n",
    "    print(f\"Table {TABLE_NAME} already exists!\")\n",
    "\n",
    "else:\n",
    "    # Create table\n",
    "    create_table_cmd = sqlalchemy.text(\n",
    "        f\"CREATE TABLE {TABLE_NAME} ( \\\n",
    "      publication_number VARCHAR, \\\n",
    "      title TEXT, \\\n",
    "      abstract TEXT, \\\n",
    "      url VARCHAR, \\\n",
    "      country TEXT, \\\n",
    "      publication_description TEXT \\\n",
    "      )\",\n",
    "    )\n",
    "\n",
    "    # Insert data\n",
    "    insert_data_cmd = sqlalchemy.text(\n",
    "        f\"\"\"\n",
    "      INSERT INTO {TABLE_NAME} VALUES (:publication_number, :title,\t:abstract, :url,\t:country,\t:publication_description)\n",
    "      \"\"\"\n",
    "    )\n",
    "\n",
    "    parameter_map = [\n",
    "        {\n",
    "            \"publication_number\": row[\"publication_number\"],\n",
    "            \"title\": row[\"title\"],\n",
    "            \"abstract\": row[\"abstract\"],\n",
    "            \"url\": row[\"url\"],\n",
    "            \"country\": row[\"country\"],\n",
    "            \"publication_description\": row[\"publication_description\"],\n",
    "        }\n",
    "        for index, row in df.iterrows()\n",
    "    ]\n",
    "\n",
    "    # Execute the queries\n",
    "    with engine.connect() as conn:\n",
    "        print(\"Creating table...\")\n",
    "        conn.execute(create_table_cmd)\n",
    "        print(\"Inserting values...\")\n",
    "        conn.execute(\n",
    "            insert_data_cmd,\n",
    "            parameter_map,\n",
    "        )\n",
    "        print(\"Committing...\")\n",
    "        conn.commit()\n",
    "        print(\"Done\")\n",
    "    connector.close()"
   ]
  },
  {
   "cell_type": "markdown",
   "metadata": {
    "id": "l_vCJCV_c5ym"
   },
   "source": [
    "### Add AlloyDB extensions\n",
    "\n",
    "Enable an extension by connecting to a database in an AlloyDB cluster's primary instance, then running a `CREATE EXTENSION` command. More details can be found [here](https://cloud.google.com/alloydb/docs/reference/extensions#enable).\n",
    "- `google_ml_integration` integrates AlloyDB with Vertex AI\n",
    "- `vector` allows us to use `pgvector` functions and operators with optimizations specific to AlloyDB"
   ]
  },
  {
   "cell_type": "code",
   "execution_count": 63,
   "metadata": {
    "id": "lXeVfDinBxMj"
   },
   "outputs": [],
   "source": [
    "# Add extensions\n",
    "google_ml_integration_cmd = sqlalchemy.text(\n",
    "    \"CREATE EXTENSION IF NOT EXISTS google_ml_integration CASCADE\"\n",
    ")\n",
    "vector_cmd = sqlalchemy.text(\"CREATE EXTENSION IF NOT EXISTS vector\")\n",
    "\n",
    "# Execute the queries\n",
    "with engine.connect() as conn:\n",
    "    conn.execute(google_ml_integration_cmd)\n",
    "    conn.execute(vector_cmd)\n",
    "    conn.commit()\n",
    "connector.close()"
   ]
  },
  {
   "cell_type": "markdown",
   "metadata": {
    "id": "2gmhxd4Nkgpv"
   },
   "source": [
    "### Create a column that stores text embeddings and an Index using AlloyDB\n",
    "\n",
    "\n",
    "\n",
    "*   The Vertex AI text-embeddings API lets you create a text embedding using Generative AI on Vertex AI. Text embeddings are numerical representations of text that capture relationships between words and phrases.\n",
    "*   IVFFlat is a type of vector index for approximate nearest neighbor search. It is a frequently used index type that can improve performance when querying highly-dimensional vectors, like those representing embeddings.\n",
    "\n",
    "Visit the [pgvector documentation](https://github.com/pgvector/pgvector?tab=readme-ov-file#pgvector) for more information on supported index types and their distance functions\n"
   ]
  },
  {
   "cell_type": "code",
   "execution_count": 64,
   "metadata": {
    "id": "nQ2Xw15HgQ7L"
   },
   "outputs": [],
   "source": [
    "embedding_column = \"embedding\"\n",
    "distance_function = \"vector_cosine_ops\"\n",
    "\n",
    "# Add column to store embeddings\n",
    "add_column_cmd = sqlalchemy.text(\n",
    "    f\"ALTER TABLE {TABLE_NAME} ADD COLUMN {embedding_column} vector({DIMENSIONS});\"\n",
    ")\n",
    "\n",
    "# Generate embeddings for `title` and `abstract` columns of the dataset\n",
    "embedding_cmd = sqlalchemy.text(\n",
    "    f\"UPDATE {TABLE_NAME} SET {embedding_column} = embedding('{EMBEDDING_MODEL}', title || ' ' || abstract);\"\n",
    ")\n",
    "\n",
    "# Create an ivfflat index on the table with embedding column and cosine distance\n",
    "index_cmd = sqlalchemy.text(\n",
    "    f\"CREATE INDEX ON {TABLE_NAME} USING ivfflat ({embedding_column} {distance_function})\"\n",
    ")"
   ]
  },
  {
   "cell_type": "code",
   "execution_count": 65,
   "metadata": {
    "id": "jfBtZUI8mQJU"
   },
   "outputs": [
    {
     "name": "stdout",
     "output_type": "stream",
     "text": [
      "Creating Embeddings...\n",
      "Creating Index...\n",
      "Committing...\n",
      "Done\n"
     ]
    }
   ],
   "source": [
    "# Execute the queries\n",
    "with engine.connect() as conn:\n",
    "    try:\n",
    "        conn.execute(add_column_cmd)\n",
    "    except:\n",
    "        print(f\"Column {embedding_column} already exists\")\n",
    "    print(\"Creating Embeddings...\")\n",
    "    conn.execute(embedding_cmd)\n",
    "    print(\"Creating Index...\")\n",
    "    conn.execute(index_cmd)\n",
    "    print(\"Committing...\")\n",
    "    conn.commit()\n",
    "    print(\"Done\")\n",
    "connector.close()"
   ]
  },
  {
   "cell_type": "markdown",
   "metadata": {
    "id": "PwYsLCD9c_MJ"
   },
   "source": [
    "## Retrieve data\n",
    "\n",
    "Retrieve top 5 rows based on similarity search"
   ]
  },
  {
   "cell_type": "code",
   "execution_count": 66,
   "metadata": {
    "id": "5pSbkfBbwDL1"
   },
   "outputs": [],
   "source": [
    "def retrieve_information(\n",
    "    query: str,\n",
    "    engine: Engine,\n",
    "    table_name: str,\n",
    "    embedding_model: str,\n",
    "    row_count: int = 5,\n",
    ") -> str:\n",
    "    \"\"\"\n",
    "    Queries a database table using a semantic similarity search and returns formatted results.\n",
    "\n",
    "    Args:\n",
    "        query (str): The search query to embed and compare against the database.\n",
    "        engine (sqlalchemy.engine.Engine): SQLAlchemy engine object.\n",
    "        table_name (str): The name of the table to query.\n",
    "        embedding_model (str): The name of the embedding model to use.\n",
    "        row_count (int, optional): The maximum number of results to return. Defaults to 5.\n",
    "\n",
    "    Assumptions:\n",
    "        The table has columns named 'publication_number', 'title', 'abstract', 'url', and an embedding column named 'embedding_column'.\n",
    "\n",
    "    Returns:\n",
    "        str: A formatted string containing the top results, including their publication number, title, abstract, and URL.\n",
    "    \"\"\"\n",
    "\n",
    "    # Perform semantic search\n",
    "    search_cmd = sqlalchemy.text(\n",
    "        f\"\"\"\n",
    "    SELECT publication_number, title,\tabstract, url FROM {table_name}\n",
    "      ORDER BY  {embedding_column}\n",
    "      <-> embedding('{embedding_model}', '{query}')::vector\n",
    "      LIMIT {row_count}\n",
    "    \"\"\"\n",
    "    )\n",
    "\n",
    "    # Execute the query\n",
    "    with engine.connect() as conn:\n",
    "        result = conn.execute(search_cmd)\n",
    "        context = [row._asdict() for row in result]\n",
    "    connector.close()\n",
    "\n",
    "    # String format the retrieved information\n",
    "    retrieved_information = \"\\n\".join(\n",
    "        [\n",
    "            f\"{index+1}. \"\n",
    "            + \"\\n\".join([f\"{key}: {value}\" for key, value in element.items()])\n",
    "            for index, element in enumerate(context)\n",
    "        ]\n",
    "    )\n",
    "\n",
    "    return retrieved_information"
   ]
  },
  {
   "cell_type": "markdown",
   "metadata": {
    "id": "E7cjd66wHaUx"
   },
   "source": [
    "**Sample Questions**\n",
    "\n",
    "\n",
    "1.   Propose some project ideas for medical devices.\n",
    "2.   List patents around solar energy and how can they be used.\n",
    "3.   What methods exist to improve combustion?\n"
   ]
  },
  {
   "cell_type": "code",
   "execution_count": 67,
   "metadata": {
    "id": "vrDZ8hB6FjkX"
   },
   "outputs": [
    {
     "name": "stdout",
     "output_type": "stream",
     "text": [
      "1. publication_number: AP-1676-A\n",
      "title: Monitoring and control for laryngeal mask airway device.\n",
      "abstract: A reversibly operable motor is mechanically connected to automatically position die piston (27) of an air syringe (26) that is pneumatically connected to the inflatable/deflatable seal ring or cuff (19) of a laryngeal mask airway device (LMA) (12) that is installed in a patient, who is being ventilated and/or anaesthetized via the airway of the LMA device (12). Ideally, (i) die air at die head end of die syringe (26), plus (ii) the air contained in the inflatable cuff (19) of die LMA (12), plus (iii) die air contained in their interconnection, is a &#34;substantially constant&#34; volume which is shared at these three locations but which is automatically shifted by piston (27) displacement, such that air pressure in the substantially constant volume is caused to correct as necessary for conformance to a predetermined level of set-point pressure. Various instrumentalities (10), including microprocessor-controlled instrumentalities, continuously monitor patterns of system response to observed pattern abnormality, with audibly and visually reported warnings to die anesthetists.\n",
      "url: https://patents.google.com/patent/AP1676A\n",
      "2. publication_number: AP-1629-A\n",
      "title: Drug delivery devices and methods for treatment of viral and microbial infections and wasting syndromes.\n",
      "abstract: Novel drug delivery devices, methods and therapeutic compositions are described for treating viral and microbial infections and wasting syndromes in an animal, including a human patient. According to the invention, a polar compound such as dimethylformamide or dimethysulfoxide is administered to a patient in need of treatment, preferably by a transdermal route. The invention further provides a vaccine prepared from antibodies harvested from the body of a patient treated by the method of the invention for a viral infection.\n",
      "url: https://patents.google.com/patent/AP1629A\n",
      "3. publication_number: AP-1423-A\n",
      "title: Washable diaper.\n",
      "abstract: The invention is a washable diaper that is a functional garment for incontinent people. It is made from terrycloth, fibre-fill for comfort and maximum absorption of body fluids; and a water-resistant fabric on the outside acts as a stopper for seepage of fluids to the exterior. It is adjustable and easy to wear due to the velcro fasteners that are used.\n",
      "url: https://patents.google.com/patent/AP1423A\n",
      "4. publication_number: AP-175-A\n",
      "title: Combination and formulations and the administration thereof to a mammal for the treatment of conditions and disease.\n",
      "abstract: A combination for\n",
      "url: https://patents.google.com/patent/AP175A\n",
      "5. publication_number: AP-1277-A\n",
      "title: Sulphonamide derivatives, process for their preparation, and their use as medicaments.\n",
      "abstract: Novel sulphonamide derivatives having CNS activity, processes for their preparation and their use as medicaments.\n",
      "url: https://patents.google.com/patent/AP1277A\n"
     ]
    }
   ],
   "source": [
    "query = \"Propose some project ideas for medical devices.\"  # @param {type:\"string\"}\n",
    "\n",
    "result = retrieve_information(\n",
    "    query=query, engine=engine, table_name=TABLE_NAME, embedding_model=EMBEDDING_MODEL\n",
    ")\n",
    "print(result)"
   ]
  },
  {
   "cell_type": "markdown",
   "metadata": {
    "id": "8img1AVdqdtB"
   },
   "source": [
    "## Generate Response"
   ]
  },
  {
   "cell_type": "markdown",
   "metadata": {
    "id": "ubQzJ-gYKdLr"
   },
   "source": [
    "Define a prompt template to answer questions according to the use-case."
   ]
  },
  {
   "cell_type": "code",
   "execution_count": 68,
   "metadata": {
    "id": "txb2LUMaxSCm"
   },
   "outputs": [],
   "source": [
    "prompt = \"\"\"You are a friendly advisor helping to answer questions about patents. Based on the search request we have loaded a list of patents closely related to the search.\n",
    "\n",
    "The user asked:\n",
    "<question>\n",
    "{question}\n",
    "</question>\n",
    "\n",
    "Here is the list of matching patents:\n",
    "<roles>\n",
    "{result}\n",
    "</roles>\n",
    "\n",
    "You should answer the question using the matching patents, reply with supplemental information and patent url.\n",
    "Answer:\n",
    "\"\"\""
   ]
  },
  {
   "cell_type": "markdown",
   "metadata": {
    "id": "gcgf_RruKrJC"
   },
   "source": [
    "The `generate_text` function performs two tasks\n",
    "- Formats the prompt template with `result` and `question`.\n",
    "- Invokes the generative model, in this case `gemini-1.0-pro`."
   ]
  },
  {
   "cell_type": "code",
   "execution_count": 69,
   "metadata": {
    "id": "5Elqguzq-SHY"
   },
   "outputs": [],
   "source": [
    "def generate_text(\n",
    "    prompt: str,\n",
    "    result: str,\n",
    "    question: str,\n",
    "    generative_model: GenerativeModel,\n",
    "    generation_config: GenerationConfig,\n",
    ") -> str:\n",
    "    \"\"\"\n",
    "    Generates text response using a specified generative language model on Vertex AI.\n",
    "\n",
    "    Args:\n",
    "        prompt (str): The text prompt template for the generative model.\n",
    "        result (str): The list of matching patents.\n",
    "        question (str): The user's question.\n",
    "        generative_model (vertexai.generative_models.GenerativeModel): The name or identifier of the generative model on Vertex AI.\n",
    "        generation_config (vertexai.generative_models.GenerationConfig): Configuration object for the text generation process.\n",
    "\n",
    "    Returns:\n",
    "        str: The generated text response from the model.\n",
    "    \"\"\"\n",
    "    input_prompt = prompt.format(result=result, question=question)\n",
    "\n",
    "    # Query the model\n",
    "    response = generative_model.generate_content(\n",
    "        contents=input_prompt, generation_config=generation_config\n",
    "    )\n",
    "\n",
    "    return response.text"
   ]
  },
  {
   "cell_type": "markdown",
   "metadata": {
    "id": "MublwjbdKV7I"
   },
   "source": [
    "Generate a response based on the top 5 rows fetched via similarity search."
   ]
  },
  {
   "cell_type": "code",
   "execution_count": 70,
   "metadata": {
    "id": "xCanM1asBSXc"
   },
   "outputs": [
    {
     "name": "stdout",
     "output_type": "stream",
     "text": [
      "## Medical Device Project Ideas\n",
      "\n",
      "Based on the provided patents, here are some medical device project ideas:\n",
      "\n",
      "**1. Laryngeal Mask Airway Monitoring and Control System:**\n",
      "\n",
      "This project could build upon the technology described in patent AP-1676-A to create a more sophisticated monitoring and control system for laryngeal mask airways (LMAs). This system could use sensors to monitor various aspects of the LMA, such as cuff pressure, air leakage, and patient respiration. It could then use this information to automatically adjust the cuff pressure and other settings to optimize ventilation and patient comfort.\n",
      "\n",
      "**2. Transdermal Drug Delivery System for Viral and Microbial Infections:**\n",
      "\n",
      "This project could develop a transdermal drug delivery system based on the technology described in patent AP-1629-A. This system could deliver antiviral or antimicrobial drugs directly to the bloodstream, bypassing the digestive system and potentially improving drug efficacy and reducing side effects.\n",
      "\n",
      "**3. Improved Washable Diaper Design:**\n",
      "\n",
      "This project could improve upon the design of the washable diaper described in patent AP-1423-A. This could involve using new materials, improving the fit and comfort of the diaper, or adding features such as wetness indicators or antimicrobial coatings.\n",
      "\n",
      "**4. Combination Therapies for Medical Conditions:**\n",
      "\n",
      "This project could explore the use of combination therapies for various medical conditions, as suggested by patent AP-175-A. This could involve developing new drug combinations or finding new ways to deliver existing drugs in combination.\n",
      "\n",
      "**5. New Sulfonamide Derivatives for CNS Disorders:**\n",
      "\n",
      "This project could research and develop new sulfonamide derivatives with improved efficacy and safety for treating CNS disorders, as described in patent AP-1277-A. This could involve synthesizing new compounds, testing them in animal models, and conducting clinical trials.\n",
      "\n",
      "**Additional Information:**\n",
      "\n",
      "* When considering these project ideas, it is important to conduct thorough research and analysis to ensure that the proposed device is safe, effective, and meets a clear unmet need in the medical field.\n",
      "* It is also important to consider the regulatory landscape for medical devices and ensure that the proposed device can be developed and brought to market in compliance with all applicable regulations.\n",
      "\n",
      "**Patent URLs:**\n",
      "\n",
      "* AP-1676-A: https://patents.google.com/patent/AP1676A\n",
      "* AP-1629-A: https://patents.google.com/patent/AP1629A\n",
      "* AP-1423-A: https://patents.google.com/patent/AP1423A\n",
      "* AP-175-A: https://patents.google.com/patent/AP175A\n",
      "* AP-1277-A: https://patents.google.com/patent/AP1277A\n",
      "\n",
      "I hope this information is helpful! Please let me know if you have any other questions. \n",
      "\n"
     ]
    }
   ],
   "source": [
    "response = generate_text(\n",
    "    prompt=prompt,\n",
    "    result=result,\n",
    "    question=query,\n",
    "    generative_model=GenerativeModel(GENERATIVE_MODEL),\n",
    "    generation_config=GenerationConfig(temperature=0.6, max_output_tokens=1024),\n",
    ")\n",
    "\n",
    "print(response)"
   ]
  },
  {
   "cell_type": "markdown",
   "metadata": {
    "id": "QXvQ_mThNxZZ"
   },
   "source": [
    "## Summary\n",
    "\n",
    "The provided code demonstrates a comprehensive approach to leveraging AlloyDB as a backend for a retrieval-augmented generative (RAG) application. The code is relevant to the task of building a RAG application using Vertex AI.\n",
    "\n",
    "AlloyDB delivers up to 100X faster analytical queries than standard PostgreSQL, and AlloyDB AI runs vector queries up to 10x faster compared to standard PostgreSQL when using the IVFFlat index.\n",
    "\n",
    "**Steps to improve generated responses:**\n",
    "\n",
    "1. Prompt Engineering: The prompt template used for text generation could be further refined to improve the relevance and quality of the responses based on the use-case.\n",
    "2. Contextual Information: Incorporate additional context from the retrieved information to provide more comprehensive and nuanced responses.\n",
    "3. Model Parameters: Explore and tune the parameters (`GenerationConfig`) of the model to enhance the quality and relevance of the generated responses."
   ]
  },
  {
   "cell_type": "markdown",
   "metadata": {
    "id": "Th-slu0VCdDf"
   },
   "source": [
    "## Cleaning Up"
   ]
  },
  {
   "cell_type": "markdown",
   "metadata": {
    "id": "ncKTgQdu2OPg"
   },
   "source": [
    "Clean up the created resources by deleting the primary instance, and the cluster."
   ]
  },
  {
   "cell_type": "code",
   "execution_count": null,
   "metadata": {
    "id": "7LcIq5UevulE"
   },
   "outputs": [],
   "source": [
    "# Delete the instance\n",
    "!gcloud alloydb instances delete {INSTANCE} --cluster={CLUSTER} --region={REGION} -y\n",
    "\n",
    "# Delete the cluster\n",
    "!gcloud alloydb clusters delete {CLUSTER} --region={REGION}"
   ]
  },
  {
   "cell_type": "code",
   "execution_count": null,
   "metadata": {},
   "outputs": [],
   "source": []
  }
 ],
 "metadata": {
  "colab": {
   "name": "rag_embeddings_and_index_with_alloydb.ipynb",
   "toc_visible": true
  },
  "environment": {
   "kernel": "conda-base-py",
   "name": "workbench-notebooks.m124",
   "type": "gcloud",
   "uri": "us-docker.pkg.dev/deeplearning-platform-release/gcr.io/workbench-notebooks:m124"
  },
  "kernelspec": {
   "display_name": "Python 3 (ipykernel) (Local)",
   "language": "python",
   "name": "conda-base-py"
  },
  "language_info": {
   "codemirror_mode": {
    "name": "ipython",
    "version": 3
   },
   "file_extension": ".py",
   "mimetype": "text/x-python",
   "name": "python",
   "nbconvert_exporter": "python",
   "pygments_lexer": "ipython3",
   "version": "3.10.14"
  }
 },
 "nbformat": 4,
 "nbformat_minor": 4
}
